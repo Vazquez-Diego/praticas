{
 "cells": [
  {
   "cell_type": "code",
   "execution_count": 19,
   "id": "7b8a57a9",
   "metadata": {},
   "outputs": [
    {
     "name": "stdout",
     "output_type": "stream",
     "text": [
      "   id_transaccion  id_cliente   nombre_cliente           cuenta_origen  \\\n",
      "0               1        2783    Philip Knight  ES72380307822087479772   \n",
      "1               2        3696   William Harmon  ES74956814146097211403   \n",
      "2               3        6403     Amanda Lewis  ES94278160534459740595   \n",
      "3               4        1156  Victoria Burton  ES18259905541180196560   \n",
      "4               5        2653       Todd Young  ES59522414203568104424   \n",
      "\n",
      "        fecha     monto divisa tipo_transaccion     ciudad  \\\n",
      "0  13/09/2025  31551.32    USD    transferencia  Queretaro   \n",
      "1  16/09/2025  36889.11    MXN           retiro     Juarez   \n",
      "2  04/07/2025  30644.10    MXN           retiro      Paris   \n",
      "3  06/09/2025   7869.29    USD           retiro     Juarez   \n",
      "4  03/04/2025  37940.37    MXN           retiro     Puebla   \n",
      "\n",
      "           cuenta_destino categoria_comercio  \n",
      "0  ES19946920183191759474                NaN  \n",
      "1                     NaN                NaN  \n",
      "2                     NaN                NaN  \n",
      "3                     NaN                NaN  \n",
      "4                     NaN                NaN  \n"
     ]
    }
   ],
   "source": [
    "import pandas as pd\n",
    "df = pd.read_csv(\"transacciones_simuladas 2.csv\")\n",
    "print(df.head())"
   ]
  },
  {
   "cell_type": "code",
   "execution_count": 20,
   "id": "4afd6c50",
   "metadata": {},
   "outputs": [
    {
     "name": "stdout",
     "output_type": "stream",
     "text": [
      "tipo_transaccion\n",
      "compra           3352\n",
      "retiro           3278\n",
      "transferencia    3370\n",
      "dtype: int64\n"
     ]
    }
   ],
   "source": [
    "transacciones_por_tipo = df.groupby('tipo_transaccion').size()\n",
    "print(transacciones_por_tipo)\n"
   ]
  },
  {
   "cell_type": "code",
   "execution_count": 21,
   "id": "573099fc",
   "metadata": {},
   "outputs": [
    {
     "name": "stdout",
     "output_type": "stream",
     "text": [
      "      id_transaccion  id_cliente     nombre_cliente           cuenta_origen  \\\n",
      "3444            3445        4508        Laura Price  ES25203010770036579757   \n",
      "5374            5375        8796     Frances Joseph  ES82043997879436965728   \n",
      "3330            3331        7016       Susan Barnes  ES97485046117969424317   \n",
      "6515            6516        7295  Samantha Caldwell  ES25328975908033588586   \n",
      "8904            8905        7606   Michael Melendez  ES56719779144675253265   \n",
      "...              ...         ...                ...                     ...   \n",
      "9855            9856        6585     Todd Alexander  ES10013068113377650484   \n",
      "3780            3781        6163   Anthony Robinson  ES16710412900903321238   \n",
      "8444            8445        2447     Rebecca Wilson  ES38819480875585776823   \n",
      "8164            8165        4650      Randall Rojas  ES53062048260782992115   \n",
      "5865            5866        4052      Jeffery Terry  ES64780977484269501261   \n",
      "\n",
      "           fecha     monto divisa tipo_transaccion       ciudad  \\\n",
      "3444  23/09/2025  49995.63    MXN           compra  Guadalajara   \n",
      "5374  27/04/2025  49992.38    EUR    transferencia         Leon   \n",
      "3330  03/09/2025  49988.09    USD           compra  Guadalajara   \n",
      "6515  13/07/2025  49986.96    USD           retiro    Queretaro   \n",
      "8904  03/09/2025  49981.24    USD           compra       Merida   \n",
      "...          ...       ...    ...              ...          ...   \n",
      "9855  20/06/2025     77.53    MXN    transferencia      Tijuana   \n",
      "3780  26/06/2025     71.74    MXN           compra      Torreon   \n",
      "8444  02/05/2025     53.80    EUR    transferencia       Juarez   \n",
      "8164  08/05/2025     53.73    USD    transferencia       Puebla   \n",
      "5865  06/04/2025     50.83    EUR    transferencia  Guadalajara   \n",
      "\n",
      "              cuenta_destino categoria_comercio  \n",
      "3444                     NaN               ropa  \n",
      "5374  ES22967848312916265659                NaN  \n",
      "3330                     NaN               ropa  \n",
      "6515                     NaN                NaN  \n",
      "8904                     NaN       supermercado  \n",
      "...                      ...                ...  \n",
      "9855  ES55110140151279554441                NaN  \n",
      "3780                     NaN             viajes  \n",
      "8444  ES21243857163792819573                NaN  \n",
      "8164  ES56992091497801652565                NaN  \n",
      "5865  ES28448693016488568683                NaN  \n",
      "\n",
      "[10000 rows x 11 columns]\n"
     ]
    }
   ],
   "source": [
    "ordenar_datos_tipo_transaccion = df.sort_values('monto', ascending=False)\n",
    "print(ordenar_datos_tipo_transaccion)"
   ]
  },
  {
   "cell_type": "code",
   "execution_count": 22,
   "id": "6184e780",
   "metadata": {},
   "outputs": [
    {
     "name": "stdout",
     "output_type": "stream",
     "text": [
      "Transacciones extranjeras:\n",
      "Total: 35 transacciones\n",
      "Ciudades extranjeras encontradas:\n",
      "['Paris' 'Madrid' 'Brasil' 'Barcelona' 'Los Angeles' 'Sidney' 'London'\n",
      " 'Bogota' 'Boston' 'New York' 'Buenos Aires' 'Montreal' 'Israel' 'Cali'\n",
      " 'India' 'China' 'Nigeria' 'Ucrania' 'New york' 'Peru' 'Libia' 'Texas'\n",
      " 'Milan' 'Moscu']\n"
     ]
    }
   ],
   "source": [
    "ciudades_mexico = ['Queretaro', 'Juarez', 'Puebla', 'Monterrey', 'Merida', 'Leon', 'CDMX', 'Torreon', 'Tijuana', 'Guadalajara']\n",
    "transacciones_extranjeras = df[~df['ciudad'].isin(ciudades_mexico)]\n",
    "print(\"Transacciones extranjeras:\")\n",
    "print(f\"Total: {len(transacciones_extranjeras)} transacciones\")\n",
    "print(\"Ciudades extranjeras encontradas:\")\n",
    "print(transacciones_extranjeras['ciudad'].unique())"
   ]
  },
  {
   "cell_type": "code",
   "execution_count": 23,
   "id": "8d4fe1bc",
   "metadata": {},
   "outputs": [
    {
     "name": "stdout",
     "output_type": "stream",
     "text": [
      "¿Está Sudáfrica? False\n"
     ]
    }
   ],
   "source": [
    "ciudades = df['ciudad'].unique()\n",
    "tiene_sudafrica = 'Sudáfrica' in ciudades\n",
    "print(f\"¿Está Sudáfrica? {tiene_sudafrica}\")"
   ]
  },
  {
   "cell_type": "code",
   "execution_count": 24,
   "id": "bae8263d",
   "metadata": {},
   "outputs": [
    {
     "name": "stdout",
     "output_type": "stream",
     "text": [
      "El monto promedio que se retira es: 24861.53\n"
     ]
    }
   ],
   "source": [
    "promedio_retiro = df[df['tipo_transaccion'] == 'retiro']['monto'].mean()\n",
    "print(f\"El monto promedio que se retira es: {promedio_retiro:.2f}\")"
   ]
  },
  {
   "cell_type": "code",
   "execution_count": 25,
   "id": "e2f8fcb6",
   "metadata": {},
   "outputs": [
    {
     "name": "stdout",
     "output_type": "stream",
     "text": [
      "El retiro mayor fue:\n",
      "id_transaccion                          6516\n",
      "id_cliente                              7295\n",
      "nombre_cliente             Samantha Caldwell\n",
      "cuenta_origen         ES25328975908033588586\n",
      "fecha                             13/07/2025\n",
      "monto                               49986.96\n",
      "divisa                                   USD\n",
      "tipo_transaccion                      retiro\n",
      "ciudad                             Queretaro\n",
      "cuenta_destino                           NaN\n",
      "categoria_comercio                       NaN\n",
      "Name: 6515, dtype: object\n"
     ]
    }
   ],
   "source": [
    "retiro_mayor = df[df['tipo_transaccion'] == 'retiro'].sort_values('monto', ascending=False).iloc[0]\n",
    "print(\"El retiro mayor fue:\")\n",
    "print(retiro_mayor)"
   ]
  },
  {
   "cell_type": "code",
   "execution_count": 26,
   "id": "aea2db7e",
   "metadata": {},
   "outputs": [
    {
     "name": "stdout",
     "output_type": "stream",
     "text": [
      "Cantidad de depósitos entre 20000 y 35000: 0\n"
     ]
    }
   ],
   "source": [
    "depositos_entre_20000_35000 = df[(df['tipo_transaccion'] == 'deposito') & (df['monto'] >= 20000) & (df['monto'] <= 35000)]\n",
    "cantidad_depositos = len(depositos_entre_20000_35000)\n",
    "print(f\"Cantidad de depósitos entre 20000 y 35000: {cantidad_depositos}\")"
   ]
  },
  {
   "cell_type": "code",
   "execution_count": 27,
   "id": "a9c431ff",
   "metadata": {},
   "outputs": [
    {
     "name": "stdout",
     "output_type": "stream",
     "text": [
      "      id_transaccion  id_cliente         nombre_cliente  \\\n",
      "3738            3739        6681         Michael Kelley   \n",
      "8666            8667        9496            Alicia Roth   \n",
      "4021            4022        7350           April Murphy   \n",
      "4020            4021        3145  Mr. Matthew Henderson   \n",
      "4018            4019        1844        Karen Gillespie   \n",
      "...              ...         ...                    ...   \n",
      "5024            5025        1263       Jamie Castro PhD   \n",
      "5021            5022        7860          Robert Powers   \n",
      "5017            5018        1951           Carrie Cohen   \n",
      "5045            5046        8073             Sean Price   \n",
      "9999           10000        5861          Ashley Nelson   \n",
      "\n",
      "               cuenta_origen       fecha     monto divisa tipo_transaccion  \\\n",
      "3738  ES16733901739406750809  03/09/2025  21737.65    EUR    transferencia   \n",
      "8666  ES11765786593888638867  23/07/2025   1211.74    EUR           compra   \n",
      "4021  ES48763001220803208622  21/04/2025   5210.46    EUR           retiro   \n",
      "4020  ES86933819771996637266  06/07/2025  34956.42    EUR    transferencia   \n",
      "4018  ES77060445755813363612  25/06/2025   8762.97    EUR    transferencia   \n",
      "...                      ...         ...       ...    ...              ...   \n",
      "5024  ES39385730203535601982  02/07/2025  47582.72    USD           retiro   \n",
      "5021  ES49520552631787326429  05/04/2025  42135.93    USD    transferencia   \n",
      "5017  ES10954269547105180780  19/04/2025  31183.09    USD    transferencia   \n",
      "5045  ES42304524226337522447  03/04/2025  23498.11    USD           compra   \n",
      "9999  ES83192720179989181227  04/09/2025  12672.32    USD           retiro   \n",
      "\n",
      "           ciudad          cuenta_destino categoria_comercio  \n",
      "3738      Tijuana  ES82793080901088211360                NaN  \n",
      "8666    Queretaro                     NaN        restaurante  \n",
      "4021       Merida                     NaN                NaN  \n",
      "4020       Merida  ES12749287156953071167                NaN  \n",
      "4018         CDMX  ES23858819105228800409                NaN  \n",
      "...           ...                     ...                ...  \n",
      "5024         CDMX                     NaN                NaN  \n",
      "5021  Guadalajara  ES84905833295519879021                NaN  \n",
      "5017       Juarez  ES64639257285190518951                NaN  \n",
      "5045         CDMX                     NaN          servicios  \n",
      "9999    Monterrey                     NaN                NaN  \n",
      "\n",
      "[10000 rows x 11 columns]\n"
     ]
    }
   ],
   "source": [
    "ordenar_por_divisa = df.sort_values('divisa')\n",
    "print(ordenar_por_divisa)"
   ]
  },
  {
   "cell_type": "code",
   "execution_count": 35,
   "id": "f633e46f",
   "metadata": {},
   "outputs": [
    {
     "data": {
      "text/html": [
       "<div>\n",
       "<style scoped>\n",
       "    .dataframe tbody tr th:only-of-type {\n",
       "        vertical-align: middle;\n",
       "    }\n",
       "\n",
       "    .dataframe tbody tr th {\n",
       "        vertical-align: top;\n",
       "    }\n",
       "\n",
       "    .dataframe thead th {\n",
       "        text-align: right;\n",
       "    }\n",
       "</style>\n",
       "<table border=\"1\" class=\"dataframe\">\n",
       "  <thead>\n",
       "    <tr style=\"text-align: right;\">\n",
       "      <th></th>\n",
       "      <th>id_transaccion</th>\n",
       "      <th>id_cliente</th>\n",
       "      <th>nombre_cliente</th>\n",
       "      <th>cuenta_origen</th>\n",
       "      <th>fecha</th>\n",
       "      <th>monto</th>\n",
       "      <th>divisa</th>\n",
       "      <th>tipo_transaccion</th>\n",
       "      <th>ciudad</th>\n",
       "      <th>cuenta_destino</th>\n",
       "      <th>categoria_comercio</th>\n",
       "    </tr>\n",
       "  </thead>\n",
       "  <tbody>\n",
       "    <tr>\n",
       "      <th>4999</th>\n",
       "      <td>5000</td>\n",
       "      <td>2329</td>\n",
       "      <td>Donald Morgan</td>\n",
       "      <td>ES68169839959601180323</td>\n",
       "      <td>02/08/2025</td>\n",
       "      <td>4594.55</td>\n",
       "      <td>MXN</td>\n",
       "      <td>compra</td>\n",
       "      <td>Merida</td>\n",
       "      <td>NaN</td>\n",
       "      <td>viajes</td>\n",
       "    </tr>\n",
       "    <tr>\n",
       "      <th>3418</th>\n",
       "      <td>3419</td>\n",
       "      <td>6213</td>\n",
       "      <td>Gordon Mitchell</td>\n",
       "      <td>ES18209862838109017654</td>\n",
       "      <td>25/04/2025</td>\n",
       "      <td>1504.04</td>\n",
       "      <td>MXN</td>\n",
       "      <td>transferencia</td>\n",
       "      <td>Queretaro</td>\n",
       "      <td>ES33982298334039108170</td>\n",
       "      <td>NaN</td>\n",
       "    </tr>\n",
       "    <tr>\n",
       "      <th>7716</th>\n",
       "      <td>7717</td>\n",
       "      <td>4523</td>\n",
       "      <td>Eric Reed</td>\n",
       "      <td>ES75898608643557555033</td>\n",
       "      <td>25/04/2025</td>\n",
       "      <td>49091.82</td>\n",
       "      <td>MXN</td>\n",
       "      <td>transferencia</td>\n",
       "      <td>Monterrey</td>\n",
       "      <td>ES12534018964908674288</td>\n",
       "      <td>NaN</td>\n",
       "    </tr>\n",
       "    <tr>\n",
       "      <th>3420</th>\n",
       "      <td>3421</td>\n",
       "      <td>1523</td>\n",
       "      <td>Scott Miller</td>\n",
       "      <td>ES86123276902568711275</td>\n",
       "      <td>18/05/2025</td>\n",
       "      <td>15041.19</td>\n",
       "      <td>MXN</td>\n",
       "      <td>transferencia</td>\n",
       "      <td>Tijuana</td>\n",
       "      <td>ES25507324778634354701</td>\n",
       "      <td>NaN</td>\n",
       "    </tr>\n",
       "    <tr>\n",
       "      <th>7714</th>\n",
       "      <td>7715</td>\n",
       "      <td>9180</td>\n",
       "      <td>Crystal Salazar</td>\n",
       "      <td>ES24881617387329624260</td>\n",
       "      <td>30/05/2025</td>\n",
       "      <td>27791.39</td>\n",
       "      <td>MXN</td>\n",
       "      <td>retiro</td>\n",
       "      <td>Puebla</td>\n",
       "      <td>NaN</td>\n",
       "      <td>NaN</td>\n",
       "    </tr>\n",
       "    <tr>\n",
       "      <th>...</th>\n",
       "      <td>...</td>\n",
       "      <td>...</td>\n",
       "      <td>...</td>\n",
       "      <td>...</td>\n",
       "      <td>...</td>\n",
       "      <td>...</td>\n",
       "      <td>...</td>\n",
       "      <td>...</td>\n",
       "      <td>...</td>\n",
       "      <td>...</td>\n",
       "      <td>...</td>\n",
       "    </tr>\n",
       "    <tr>\n",
       "      <th>3999</th>\n",
       "      <td>4000</td>\n",
       "      <td>7160</td>\n",
       "      <td>Patrick Murillo</td>\n",
       "      <td>ES89558746088010734685</td>\n",
       "      <td>27/05/2025</td>\n",
       "      <td>13445.13</td>\n",
       "      <td>USD</td>\n",
       "      <td>transferencia</td>\n",
       "      <td>Puebla</td>\n",
       "      <td>ES13320991241765943956</td>\n",
       "      <td>NaN</td>\n",
       "    </tr>\n",
       "    <tr>\n",
       "      <th>3998</th>\n",
       "      <td>3999</td>\n",
       "      <td>8683</td>\n",
       "      <td>Stephanie Jones</td>\n",
       "      <td>ES87373996580107811660</td>\n",
       "      <td>19/05/2025</td>\n",
       "      <td>4188.17</td>\n",
       "      <td>USD</td>\n",
       "      <td>compra</td>\n",
       "      <td>Merida</td>\n",
       "      <td>NaN</td>\n",
       "      <td>supermercado</td>\n",
       "    </tr>\n",
       "    <tr>\n",
       "      <th>3995</th>\n",
       "      <td>3996</td>\n",
       "      <td>7341</td>\n",
       "      <td>Joseph Clark</td>\n",
       "      <td>ES21923168982511942003</td>\n",
       "      <td>30/06/2025</td>\n",
       "      <td>4632.10</td>\n",
       "      <td>USD</td>\n",
       "      <td>retiro</td>\n",
       "      <td>Monterrey</td>\n",
       "      <td>NaN</td>\n",
       "      <td>NaN</td>\n",
       "    </tr>\n",
       "    <tr>\n",
       "      <th>4011</th>\n",
       "      <td>4012</td>\n",
       "      <td>7535</td>\n",
       "      <td>Cathy Cowan</td>\n",
       "      <td>ES20889320081477534025</td>\n",
       "      <td>09/09/2025</td>\n",
       "      <td>34561.87</td>\n",
       "      <td>USD</td>\n",
       "      <td>retiro</td>\n",
       "      <td>Queretaro</td>\n",
       "      <td>NaN</td>\n",
       "      <td>NaN</td>\n",
       "    </tr>\n",
       "    <tr>\n",
       "      <th>9999</th>\n",
       "      <td>10000</td>\n",
       "      <td>5861</td>\n",
       "      <td>Ashley Nelson</td>\n",
       "      <td>ES83192720179989181227</td>\n",
       "      <td>04/09/2025</td>\n",
       "      <td>12672.32</td>\n",
       "      <td>USD</td>\n",
       "      <td>retiro</td>\n",
       "      <td>Monterrey</td>\n",
       "      <td>NaN</td>\n",
       "      <td>NaN</td>\n",
       "    </tr>\n",
       "  </tbody>\n",
       "</table>\n",
       "<p>10000 rows × 11 columns</p>\n",
       "</div>"
      ],
      "text/plain": [
       "      id_transaccion  id_cliente   nombre_cliente           cuenta_origen  \\\n",
       "4999            5000        2329    Donald Morgan  ES68169839959601180323   \n",
       "3418            3419        6213  Gordon Mitchell  ES18209862838109017654   \n",
       "7716            7717        4523        Eric Reed  ES75898608643557555033   \n",
       "3420            3421        1523     Scott Miller  ES86123276902568711275   \n",
       "7714            7715        9180  Crystal Salazar  ES24881617387329624260   \n",
       "...              ...         ...              ...                     ...   \n",
       "3999            4000        7160  Patrick Murillo  ES89558746088010734685   \n",
       "3998            3999        8683  Stephanie Jones  ES87373996580107811660   \n",
       "3995            3996        7341     Joseph Clark  ES21923168982511942003   \n",
       "4011            4012        7535      Cathy Cowan  ES20889320081477534025   \n",
       "9999           10000        5861    Ashley Nelson  ES83192720179989181227   \n",
       "\n",
       "           fecha     monto divisa tipo_transaccion     ciudad  \\\n",
       "4999  02/08/2025   4594.55    MXN           compra     Merida   \n",
       "3418  25/04/2025   1504.04    MXN    transferencia  Queretaro   \n",
       "7716  25/04/2025  49091.82    MXN    transferencia  Monterrey   \n",
       "3420  18/05/2025  15041.19    MXN    transferencia    Tijuana   \n",
       "7714  30/05/2025  27791.39    MXN           retiro     Puebla   \n",
       "...          ...       ...    ...              ...        ...   \n",
       "3999  27/05/2025  13445.13    USD    transferencia     Puebla   \n",
       "3998  19/05/2025   4188.17    USD           compra     Merida   \n",
       "3995  30/06/2025   4632.10    USD           retiro  Monterrey   \n",
       "4011  09/09/2025  34561.87    USD           retiro  Queretaro   \n",
       "9999  04/09/2025  12672.32    USD           retiro  Monterrey   \n",
       "\n",
       "              cuenta_destino categoria_comercio  \n",
       "4999                     NaN             viajes  \n",
       "3418  ES33982298334039108170                NaN  \n",
       "7716  ES12534018964908674288                NaN  \n",
       "3420  ES25507324778634354701                NaN  \n",
       "7714                     NaN                NaN  \n",
       "...                      ...                ...  \n",
       "3999  ES13320991241765943956                NaN  \n",
       "3998                     NaN       supermercado  \n",
       "3995                     NaN                NaN  \n",
       "4011                     NaN                NaN  \n",
       "9999                     NaN                NaN  \n",
       "\n",
       "[10000 rows x 11 columns]"
      ]
     },
     "execution_count": 35,
     "metadata": {},
     "output_type": "execute_result"
    }
   ],
   "source": [
    "df.sort_values(\"divisa\")"
   ]
  },
  {
   "cell_type": "code",
   "execution_count": 36,
   "id": "70d0fca3",
   "metadata": {},
   "outputs": [
    {
     "data": {
      "text/plain": [
       "0       USD\n",
       "1       MXN\n",
       "2       MXN\n",
       "3       USD\n",
       "4       MXN\n",
       "       ... \n",
       "9995    USD\n",
       "9996    USD\n",
       "9997    MXN\n",
       "9998    USD\n",
       "9999    USD\n",
       "Name: divisa, Length: 10000, dtype: object"
      ]
     },
     "execution_count": 36,
     "metadata": {},
     "output_type": "execute_result"
    }
   ],
   "source": [
    "df[\"divisa\"].replace(\"EUR\", \"USD\")"
   ]
  }
 ],
 "metadata": {
  "kernelspec": {
   "display_name": "Python 3",
   "language": "python",
   "name": "python3"
  },
  "language_info": {
   "codemirror_mode": {
    "name": "ipython",
    "version": 3
   },
   "file_extension": ".py",
   "mimetype": "text/x-python",
   "name": "python",
   "nbconvert_exporter": "python",
   "pygments_lexer": "ipython3",
   "version": "3.13.7"
  }
 },
 "nbformat": 4,
 "nbformat_minor": 5
}
